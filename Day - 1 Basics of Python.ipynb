{
 "cells": [
  {
   "cell_type": "markdown",
   "id": "46688c49-1f0e-4e39-bdaf-5faff193b391",
   "metadata": {},
   "source": [
    "### Python is an easy to learn, powerful programming language. "
   ]
  },
  {
   "cell_type": "code",
   "execution_count": null,
   "id": "c1a06a93-a279-44f0-a9ad-1d1283fb8faa",
   "metadata": {},
   "outputs": [],
   "source": [
    "# Easy....\n",
    "\"\"\"\n",
    "\n",
    "\"\"\""
   ]
  }
 ],
 "metadata": {
  "kernelspec": {
   "display_name": "Python 3 (ipykernel)",
   "language": "python",
   "name": "python3"
  },
  "language_info": {
   "codemirror_mode": {
    "name": "ipython",
    "version": 3
   },
   "file_extension": ".py",
   "mimetype": "text/x-python",
   "name": "python",
   "nbconvert_exporter": "python",
   "pygments_lexer": "ipython3",
   "version": "3.12.7"
  }
 },
 "nbformat": 4,
 "nbformat_minor": 5
}
